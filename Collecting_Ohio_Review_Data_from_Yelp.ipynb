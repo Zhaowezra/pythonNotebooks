{
  "nbformat": 4,
  "nbformat_minor": 0,
  "metadata": {
    "colab": {
      "name": "Collecting Ohio Review Data from Yelp.ipynb",
      "provenance": [],
      "collapsed_sections": [],
      "toc_visible": true
    },
    "kernelspec": {
      "name": "python3",
      "display_name": "Python 3"
    },
    "language_info": {
      "name": "python"
    }
  },
  "cells": [
    {
      "cell_type": "markdown",
      "metadata": {
        "id": "hDoxqFomAsBu"
      },
      "source": [
        "#Collecting Review Data from Yelp with APIFY\n",
        "The following documentation will demonstrate the process of obtaining review data from Yelp using a combination of Yelp's Fusion API along with APIFY, a web scraping service (https://apify.com/). \n",
        "1. First we'll access Yelp's Fusion API to obtain a list of relevant businesses.\n",
        "2. Then use APIFY to scrape the text of the reviews (and any useful metadata) from the business list.\n"
      ]
    },
    {
      "cell_type": "markdown",
      "metadata": {
        "id": "YGP9uVW4BgWX"
      },
      "source": [
        "## Initialize: Setting up your Program"
      ]
    },
    {
      "cell_type": "markdown",
      "metadata": {
        "id": "-SgmyCu1aL_5"
      },
      "source": [
        "### Code Requirements: Python/Google\n",
        "To run this program, you'll need to import a few different Python packages and libraries. Think of these like tools in your toolbox.\n",
        "\n",
        "NOTE: If you're attempting this code from your own environment (outside Colab or Binder) remember - you'll have to run the ***pip install*** command from your terminal (Mac) or Command Line (Windows)."
      ]
    },
    {
      "cell_type": "code",
      "metadata": {
        "id": "f7zbUjEjAl4t",
        "colab": {
          "base_uri": "https://localhost:8080/"
        },
        "outputId": "7d26e9df-e6e3-4c0c-ee55-6c38ccaa99c4"
      },
      "source": [
        "#Install required packackge\n",
        "!pip install yelpapi"
      ],
      "execution_count": null,
      "outputs": [
        {
          "output_type": "stream",
          "name": "stdout",
          "text": [
            "Collecting yelpapi\n",
            "  Downloading yelpapi-2.4.0-py3-none-any.whl (7.1 kB)\n",
            "Requirement already satisfied: requests in /usr/local/lib/python3.7/dist-packages (from yelpapi) (2.23.0)\n",
            "Requirement already satisfied: urllib3!=1.25.0,!=1.25.1,<1.26,>=1.21.1 in /usr/local/lib/python3.7/dist-packages (from requests->yelpapi) (1.24.3)\n",
            "Requirement already satisfied: certifi>=2017.4.17 in /usr/local/lib/python3.7/dist-packages (from requests->yelpapi) (2021.10.8)\n",
            "Requirement already satisfied: chardet<4,>=3.0.2 in /usr/local/lib/python3.7/dist-packages (from requests->yelpapi) (3.0.4)\n",
            "Requirement already satisfied: idna<3,>=2.5 in /usr/local/lib/python3.7/dist-packages (from requests->yelpapi) (2.10)\n",
            "Installing collected packages: yelpapi\n",
            "Successfully installed yelpapi-2.4.0\n"
          ]
        }
      ]
    },
    {
      "cell_type": "code",
      "metadata": {
        "id": "2JYcJ--M9S6x"
      },
      "source": [
        "#Import required libraries\n",
        "import pandas as pd\n",
        "from yelpapi import YelpAPI"
      ],
      "execution_count": null,
      "outputs": []
    },
    {
      "cell_type": "markdown",
      "metadata": {
        "id": "ltqXKxnNbp_x"
      },
      "source": [
        "This next piece of code mounts your google drive. This allows you to access data files stored there that your code relies on. This only applies if you're running code in Google Colab."
      ]
    },
    {
      "cell_type": "code",
      "metadata": {
        "id": "TBcqq2h-Bejt",
        "colab": {
          "base_uri": "https://localhost:8080/"
        },
        "outputId": "ecf04991-76e0-4652-9cf5-dea3fdea0b85"
      },
      "source": [
        "#Mount google drive if needed (this code was created with Google Colab)\n",
        "from google.colab import drive\n",
        "drive.mount('/content/drive')"
      ],
      "execution_count": null,
      "outputs": [
        {
          "output_type": "stream",
          "name": "stdout",
          "text": [
            "Mounted at /content/drive\n"
          ]
        }
      ]
    },
    {
      "cell_type": "markdown",
      "metadata": {
        "id": "njr4j6s0CEjC"
      },
      "source": [
        "### Obtaining an API Key \n",
        "You will need an API key (Application Programming Interface) to use the Yelp Fusion API.<br> \n",
        "\n",
        "An API key is an encrypted string that identifies an application. Yelp uses this to associate API requests with your specific account/project.\n",
        "You can learn how to obtain an API key at this link: https://www.yelp.com/developers/documentation/v3/authentication"
      ]
    },
    {
      "cell_type": "markdown",
      "metadata": {
        "id": "FU5icDkubTw5"
      },
      "source": [
        "Once you've set up your account and obtained your API key, enter it below where it says: YOUR API KEY"
      ]
    },
    {
      "cell_type": "code",
      "metadata": {
        "id": "CR_8TWx7B2H8"
      },
      "source": [
        "yelp_api = YelpAPI(\"YOUR API KEY\")"
      ],
      "execution_count": null,
      "outputs": []
    },
    {
      "cell_type": "markdown",
      "metadata": {
        "id": "A6qwi69zDcqp"
      },
      "source": [
        "\n",
        "## Option 1: Getting a List of Businesses from only ONE Location (City)"
      ]
    },
    {
      "cell_type": "markdown",
      "metadata": {
        "id": "v282e7thbdIk"
      },
      "source": [
        "### Collecting Yelp Business Metadata & URLs\n",
        "First, we create an empty dataframe to hold the search results for Yelp Businesses. This dataframe will contain the following metadata: <br>BusinessName, UniqueID, City, State, TotalRating, URL, bizType."
      ]
    },
    {
      "cell_type": "code",
      "metadata": {
        "id": "C3FMe_jJDmbF"
      },
      "source": [
        "#Create a blank dataframe\n",
        "businessdf = pd.DataFrame(columns=[\"BusinessName\", \"ID\", \"City\", \"State\", \"TotalRating\", \"URL\", \"bizType\" ])"
      ],
      "execution_count": null,
      "outputs": []
    },
    {
      "cell_type": "markdown",
      "metadata": {
        "id": "_paL6EXfD-vO"
      },
      "source": [
        "Yelp's Fusion API offers a comprehensive list of business type categories you can explore here: https://www.yelp.com/developers/documentation/v3/all_category_list \n",
        "<br>In the following example, we'll search for ice cream shops - with the category \"icecream\"."
      ]
    },
    {
      "cell_type": "markdown",
      "metadata": {
        "id": "lgejcOTUb74V"
      },
      "source": [
        "This allows you to input a search category from Yelp's list with a corresponding location/city. However, the program is limited to 50 search results with each search or \"API Call\". \n",
        "\n",
        "One way to combat this is by searching for multiple nearby cities and removing the duplicates from the search results. \n",
        "\n",
        "The category alias is then checked against the actual category to make sure they match. The actual city, state, rating, url, and business type are then populated. Rows with the populated search information are then added to the dataframe. "
      ]
    },
    {
      "cell_type": "code",
      "metadata": {
        "id": "lVW0CT7eDupT"
      },
      "source": [
        "#Category name and location get inserted as parameter in this step\n",
        "#Note that 50 is that maximum number of businesses we can get back from a single search\n",
        "#A workaround for this could be to search in several nearby cities and then remove the duplicates\n",
        "search_results = yelp_api.search_query(categories='icecream', location=\"Cincinnati\", limit=50, radius=40000)\n",
        "for businessi in range(len(search_results['businesses'])):\n",
        "  #Just to be safe CHECK IF CATEGORY ALIAS MATCHES THE CATEGORY WE WANT\n",
        "  if search_results['businesses'][0]['categories'][0]['alias'] == \"icecream\":\n",
        "    if search_results['businesses'][businessi]['location']['state'] == \"OH\":\n",
        "      #GET THE INFO\n",
        "      businessname = search_results['businesses'][businessi]['alias']\n",
        "      ID = search_results['businesses'][businessi]['id']\n",
        "      actualCity = search_results['businesses'][businessi]['location']['city']\n",
        "      state = search_results['businesses'][businessi]['location']['state']\n",
        "      rating = search_results['businesses'][businessi]['rating']\n",
        "      url = search_results['businesses'][businessi]['url']\n",
        "      bizType = \"iceCream\"\n",
        "      \n",
        "      new_row = {'BusinessName': businessname, 'ID': ID, 'City': actualCity, 'State': state, \"TotalRating\": rating, \"URL\": url, \"bizType\": bizType}\n",
        "      businessdf = businessdf.append(new_row, ignore_index=True)"
      ],
      "execution_count": null,
      "outputs": []
    },
    {
      "cell_type": "markdown",
      "metadata": {
        "id": "IvPbM-51e_LI"
      },
      "source": [
        "Next - let's look at the first three rows of our dataframe to see how it worked."
      ]
    },
    {
      "cell_type": "code",
      "metadata": {
        "id": "XYAyhdjaGLNs",
        "colab": {
          "base_uri": "https://localhost:8080/",
          "height": 193
        },
        "outputId": "47af95c9-421f-46ad-e892-9501dd655be6"
      },
      "source": [
        "businessdf.head(3)"
      ],
      "execution_count": null,
      "outputs": [
        {
          "output_type": "execute_result",
          "data": {
            "text/html": [
              "<div>\n",
              "<style scoped>\n",
              "    .dataframe tbody tr th:only-of-type {\n",
              "        vertical-align: middle;\n",
              "    }\n",
              "\n",
              "    .dataframe tbody tr th {\n",
              "        vertical-align: top;\n",
              "    }\n",
              "\n",
              "    .dataframe thead th {\n",
              "        text-align: right;\n",
              "    }\n",
              "</style>\n",
              "<table border=\"1\" class=\"dataframe\">\n",
              "  <thead>\n",
              "    <tr style=\"text-align: right;\">\n",
              "      <th></th>\n",
              "      <th>BusinessName</th>\n",
              "      <th>ID</th>\n",
              "      <th>City</th>\n",
              "      <th>State</th>\n",
              "      <th>TotalRating</th>\n",
              "      <th>URL</th>\n",
              "      <th>bizType</th>\n",
              "    </tr>\n",
              "  </thead>\n",
              "  <tbody>\n",
              "    <tr>\n",
              "      <th>0</th>\n",
              "      <td>hello-honey-cincinnati</td>\n",
              "      <td>1uANFv_eHLQlFjfbYlsoiA</td>\n",
              "      <td>Cincinnati</td>\n",
              "      <td>OH</td>\n",
              "      <td>4.5</td>\n",
              "      <td>https://www.yelp.com/biz/hello-honey-cincinnat...</td>\n",
              "      <td>iceCream</td>\n",
              "    </tr>\n",
              "    <tr>\n",
              "      <th>1</th>\n",
              "      <td>graeters-ice-cream-cincinnati-12</td>\n",
              "      <td>9xWc_rdTVT89Jm4ayb4DaQ</td>\n",
              "      <td>Cincinnati</td>\n",
              "      <td>OH</td>\n",
              "      <td>4.5</td>\n",
              "      <td>https://www.yelp.com/biz/graeters-ice-cream-ci...</td>\n",
              "      <td>iceCream</td>\n",
              "    </tr>\n",
              "    <tr>\n",
              "      <th>2</th>\n",
              "      <td>milk-jar-cafe-cincinnati-3</td>\n",
              "      <td>Q71dBguMiZlL4jkANPqrBA</td>\n",
              "      <td>Cincinnati</td>\n",
              "      <td>OH</td>\n",
              "      <td>4.5</td>\n",
              "      <td>https://www.yelp.com/biz/milk-jar-cafe-cincinn...</td>\n",
              "      <td>iceCream</td>\n",
              "    </tr>\n",
              "  </tbody>\n",
              "</table>\n",
              "</div>"
            ],
            "text/plain": [
              "                       BusinessName  ...   bizType\n",
              "0            hello-honey-cincinnati  ...  iceCream\n",
              "1  graeters-ice-cream-cincinnati-12  ...  iceCream\n",
              "2        milk-jar-cafe-cincinnati-3  ...  iceCream\n",
              "\n",
              "[3 rows x 7 columns]"
            ]
          },
          "metadata": {},
          "execution_count": 23
        }
      ]
    },
    {
      "cell_type": "markdown",
      "metadata": {
        "id": "2Qu2zosHHVnb"
      },
      "source": [
        "Now that we've verified our dataframe contains what we wanted, we can access just the Yelp URLs from this that we will input into APIFY so that we can pull individual reviews of each business. Copy and paste ALL of this (If you're on Google Colab, right click and go to \"view output fullscreen\")."
      ]
    },
    {
      "cell_type": "code",
      "metadata": {
        "id": "25VIGx1CHA60",
        "colab": {
          "base_uri": "https://localhost:8080/"
        },
        "outputId": "dd29f7c2-9ddc-4a52-e8e3-e3059be3600c"
      },
      "source": [
        "for i in range(len(businessdf)):\n",
        "  print('\"{}\",'.format(businessdf.loc[i, \"URL\"]))"
      ],
      "execution_count": null,
      "outputs": [
        {
          "output_type": "stream",
          "name": "stdout",
          "text": [
            "\"https://www.yelp.com/biz/hello-honey-cincinnati?adjust_creative=Ot21-soADPPXnbgEZOoEgQ&utm_campaign=yelp_api_v3&utm_medium=api_v3_business_search&utm_source=Ot21-soADPPXnbgEZOoEgQ\",\n",
            "\"https://www.yelp.com/biz/graeters-ice-cream-cincinnati-12?adjust_creative=Ot21-soADPPXnbgEZOoEgQ&utm_campaign=yelp_api_v3&utm_medium=api_v3_business_search&utm_source=Ot21-soADPPXnbgEZOoEgQ\",\n",
            "\"https://www.yelp.com/biz/milk-jar-cafe-cincinnati-3?adjust_creative=Ot21-soADPPXnbgEZOoEgQ&utm_campaign=yelp_api_v3&utm_medium=api_v3_business_search&utm_source=Ot21-soADPPXnbgEZOoEgQ\",\n",
            "\"https://www.yelp.com/biz/aglamesis-bros-cincinnati-4?adjust_creative=Ot21-soADPPXnbgEZOoEgQ&utm_campaign=yelp_api_v3&utm_medium=api_v3_business_search&utm_source=Ot21-soADPPXnbgEZOoEgQ\",\n",
            "\"https://www.yelp.com/biz/dojo-gelato-cincinnati?adjust_creative=Ot21-soADPPXnbgEZOoEgQ&utm_campaign=yelp_api_v3&utm_medium=api_v3_business_search&utm_source=Ot21-soADPPXnbgEZOoEgQ\",\n",
            "\"https://www.yelp.com/biz/graeters-ice-cream-cincinnati-14?adjust_creative=Ot21-soADPPXnbgEZOoEgQ&utm_campaign=yelp_api_v3&utm_medium=api_v3_business_search&utm_source=Ot21-soADPPXnbgEZOoEgQ\",\n",
            "\"https://www.yelp.com/biz/graeters-ice-cream-cincinnati?adjust_creative=Ot21-soADPPXnbgEZOoEgQ&utm_campaign=yelp_api_v3&utm_medium=api_v3_business_search&utm_source=Ot21-soADPPXnbgEZOoEgQ\",\n",
            "\"https://www.yelp.com/biz/yag%C3%B6%C3%B6t-cincinnati-4?adjust_creative=Ot21-soADPPXnbgEZOoEgQ&utm_campaign=yelp_api_v3&utm_medium=api_v3_business_search&utm_source=Ot21-soADPPXnbgEZOoEgQ\",\n",
            "\"https://www.yelp.com/biz/pendleton-parlor-ice-cream-and-cookie-dough-cincinnati?adjust_creative=Ot21-soADPPXnbgEZOoEgQ&utm_campaign=yelp_api_v3&utm_medium=api_v3_business_search&utm_source=Ot21-soADPPXnbgEZOoEgQ\",\n",
            "\"https://www.yelp.com/biz/buzzed-bull-creamery-cincinnati?adjust_creative=Ot21-soADPPXnbgEZOoEgQ&utm_campaign=yelp_api_v3&utm_medium=api_v3_business_search&utm_source=Ot21-soADPPXnbgEZOoEgQ\",\n",
            "\"https://www.yelp.com/biz/graeters-ice-cream-cincinnati-13?adjust_creative=Ot21-soADPPXnbgEZOoEgQ&utm_campaign=yelp_api_v3&utm_medium=api_v3_business_search&utm_source=Ot21-soADPPXnbgEZOoEgQ\",\n",
            "\"https://www.yelp.com/biz/green-man-twist-cincinnati?adjust_creative=Ot21-soADPPXnbgEZOoEgQ&utm_campaign=yelp_api_v3&utm_medium=api_v3_business_search&utm_source=Ot21-soADPPXnbgEZOoEgQ\",\n",
            "\"https://www.yelp.com/biz/graeters-ice-cream-cincinnati-18?adjust_creative=Ot21-soADPPXnbgEZOoEgQ&utm_campaign=yelp_api_v3&utm_medium=api_v3_business_search&utm_source=Ot21-soADPPXnbgEZOoEgQ\",\n",
            "\"https://www.yelp.com/biz/simply-rolled-ice-cream-cincinnati?adjust_creative=Ot21-soADPPXnbgEZOoEgQ&utm_campaign=yelp_api_v3&utm_medium=api_v3_business_search&utm_source=Ot21-soADPPXnbgEZOoEgQ\",\n",
            "\"https://www.yelp.com/biz/the-bold-face-dairy-bar-cincinnati?adjust_creative=Ot21-soADPPXnbgEZOoEgQ&utm_campaign=yelp_api_v3&utm_medium=api_v3_business_search&utm_source=Ot21-soADPPXnbgEZOoEgQ\",\n",
            "\"https://www.yelp.com/biz/zip-dip-cincinnati?adjust_creative=Ot21-soADPPXnbgEZOoEgQ&utm_campaign=yelp_api_v3&utm_medium=api_v3_business_search&utm_source=Ot21-soADPPXnbgEZOoEgQ\",\n",
            "\"https://www.yelp.com/biz/graeters-ice-cream-cincinnati-9?adjust_creative=Ot21-soADPPXnbgEZOoEgQ&utm_campaign=yelp_api_v3&utm_medium=api_v3_business_search&utm_source=Ot21-soADPPXnbgEZOoEgQ\",\n",
            "\"https://www.yelp.com/biz/madisons-at-findlay-market-cincinnati?adjust_creative=Ot21-soADPPXnbgEZOoEgQ&utm_campaign=yelp_api_v3&utm_medium=api_v3_business_search&utm_source=Ot21-soADPPXnbgEZOoEgQ\",\n",
            "\"https://www.yelp.com/biz/graeters-ice-cream-cincinnati-17?adjust_creative=Ot21-soADPPXnbgEZOoEgQ&utm_campaign=yelp_api_v3&utm_medium=api_v3_business_search&utm_source=Ot21-soADPPXnbgEZOoEgQ\",\n",
            "\"https://www.yelp.com/biz/cowboy-cones-cincinnati?adjust_creative=Ot21-soADPPXnbgEZOoEgQ&utm_campaign=yelp_api_v3&utm_medium=api_v3_business_search&utm_source=Ot21-soADPPXnbgEZOoEgQ\",\n",
            "\"https://www.yelp.com/biz/mt-healthy-dairy-bar-cincinnati?adjust_creative=Ot21-soADPPXnbgEZOoEgQ&utm_campaign=yelp_api_v3&utm_medium=api_v3_business_search&utm_source=Ot21-soADPPXnbgEZOoEgQ\",\n",
            "\"https://www.yelp.com/biz/dear-restaurant-and-butchery-cincinnati?adjust_creative=Ot21-soADPPXnbgEZOoEgQ&utm_campaign=yelp_api_v3&utm_medium=api_v3_business_search&utm_source=Ot21-soADPPXnbgEZOoEgQ\",\n",
            "\"https://www.yelp.com/biz/insomnia-cookies-cincinnati?adjust_creative=Ot21-soADPPXnbgEZOoEgQ&utm_campaign=yelp_api_v3&utm_medium=api_v3_business_search&utm_source=Ot21-soADPPXnbgEZOoEgQ\",\n",
            "\"https://www.yelp.com/biz/norwood-delite-creamy-whip-norwood-2?adjust_creative=Ot21-soADPPXnbgEZOoEgQ&utm_campaign=yelp_api_v3&utm_medium=api_v3_business_search&utm_source=Ot21-soADPPXnbgEZOoEgQ\",\n",
            "\"https://www.yelp.com/biz/graeters-ice-cream-cincinnati-2?adjust_creative=Ot21-soADPPXnbgEZOoEgQ&utm_campaign=yelp_api_v3&utm_medium=api_v3_business_search&utm_source=Ot21-soADPPXnbgEZOoEgQ\",\n",
            "\"https://www.yelp.com/biz/gold-top-dairy-bar-cincinnati?adjust_creative=Ot21-soADPPXnbgEZOoEgQ&utm_campaign=yelp_api_v3&utm_medium=api_v3_business_search&utm_source=Ot21-soADPPXnbgEZOoEgQ\",\n",
            "\"https://www.yelp.com/biz/davis-cookie-collection-cincinnati?adjust_creative=Ot21-soADPPXnbgEZOoEgQ&utm_campaign=yelp_api_v3&utm_medium=api_v3_business_search&utm_source=Ot21-soADPPXnbgEZOoEgQ\",\n",
            "\"https://www.yelp.com/biz/freddys-frozen-custard-and-steakburgers-cincinnati?adjust_creative=Ot21-soADPPXnbgEZOoEgQ&utm_campaign=yelp_api_v3&utm_medium=api_v3_business_search&utm_source=Ot21-soADPPXnbgEZOoEgQ\",\n",
            "\"https://www.yelp.com/biz/cone-zone-cincinnati?adjust_creative=Ot21-soADPPXnbgEZOoEgQ&utm_campaign=yelp_api_v3&utm_medium=api_v3_business_search&utm_source=Ot21-soADPPXnbgEZOoEgQ\",\n",
            "\"https://www.yelp.com/biz/graeters-cincinnati-17?adjust_creative=Ot21-soADPPXnbgEZOoEgQ&utm_campaign=yelp_api_v3&utm_medium=api_v3_business_search&utm_source=Ot21-soADPPXnbgEZOoEgQ\",\n",
            "\"https://www.yelp.com/biz/the-sweet-place-cincinnati?adjust_creative=Ot21-soADPPXnbgEZOoEgQ&utm_campaign=yelp_api_v3&utm_medium=api_v3_business_search&utm_source=Ot21-soADPPXnbgEZOoEgQ\",\n",
            "\"https://www.yelp.com/biz/general-custers-golf-and-gulp-cincinnati?adjust_creative=Ot21-soADPPXnbgEZOoEgQ&utm_campaign=yelp_api_v3&utm_medium=api_v3_business_search&utm_source=Ot21-soADPPXnbgEZOoEgQ\",\n",
            "\"https://www.yelp.com/biz/graeters-ice-cream-cincinnati-7?adjust_creative=Ot21-soADPPXnbgEZOoEgQ&utm_campaign=yelp_api_v3&utm_medium=api_v3_business_search&utm_source=Ot21-soADPPXnbgEZOoEgQ\",\n",
            "\"https://www.yelp.com/biz/united-dairy-farmers-cincinnati-5?adjust_creative=Ot21-soADPPXnbgEZOoEgQ&utm_campaign=yelp_api_v3&utm_medium=api_v3_business_search&utm_source=Ot21-soADPPXnbgEZOoEgQ\",\n",
            "\"https://www.yelp.com/biz/streetpops-cincinnati-4?adjust_creative=Ot21-soADPPXnbgEZOoEgQ&utm_campaign=yelp_api_v3&utm_medium=api_v3_business_search&utm_source=Ot21-soADPPXnbgEZOoEgQ\",\n",
            "\"https://www.yelp.com/biz/dairy-queen-cincinnati-30?adjust_creative=Ot21-soADPPXnbgEZOoEgQ&utm_campaign=yelp_api_v3&utm_medium=api_v3_business_search&utm_source=Ot21-soADPPXnbgEZOoEgQ\",\n",
            "\"https://www.yelp.com/biz/sweets-n-eats-cincinnati?adjust_creative=Ot21-soADPPXnbgEZOoEgQ&utm_campaign=yelp_api_v3&utm_medium=api_v3_business_search&utm_source=Ot21-soADPPXnbgEZOoEgQ\",\n",
            "\"https://www.yelp.com/biz/lennys-cold-rolled-creamery-cincinnati?adjust_creative=Ot21-soADPPXnbgEZOoEgQ&utm_campaign=yelp_api_v3&utm_medium=api_v3_business_search&utm_source=Ot21-soADPPXnbgEZOoEgQ\",\n",
            "\"https://www.yelp.com/biz/the-rookwood-ice-cream-parlor-cincinnati?adjust_creative=Ot21-soADPPXnbgEZOoEgQ&utm_campaign=yelp_api_v3&utm_medium=api_v3_business_search&utm_source=Ot21-soADPPXnbgEZOoEgQ\",\n",
            "\"https://www.yelp.com/biz/chill-shaved-ice-bar-cincinnati?adjust_creative=Ot21-soADPPXnbgEZOoEgQ&utm_campaign=yelp_api_v3&utm_medium=api_v3_business_search&utm_source=Ot21-soADPPXnbgEZOoEgQ\",\n",
            "\"https://www.yelp.com/biz/united-dairy-farmers-cincinnati-66?adjust_creative=Ot21-soADPPXnbgEZOoEgQ&utm_campaign=yelp_api_v3&utm_medium=api_v3_business_search&utm_source=Ot21-soADPPXnbgEZOoEgQ\",\n",
            "\"https://www.yelp.com/biz/dons-creamy-whip-reading-2?adjust_creative=Ot21-soADPPXnbgEZOoEgQ&utm_campaign=yelp_api_v3&utm_medium=api_v3_business_search&utm_source=Ot21-soADPPXnbgEZOoEgQ\",\n",
            "\"https://www.yelp.com/biz/my-artisano-foods-cincinnati?adjust_creative=Ot21-soADPPXnbgEZOoEgQ&utm_campaign=yelp_api_v3&utm_medium=api_v3_business_search&utm_source=Ot21-soADPPXnbgEZOoEgQ\",\n"
          ]
        }
      ]
    },
    {
      "cell_type": "markdown",
      "metadata": {
        "id": "Tc8G7EivJFru"
      },
      "source": [
        "### Collecting Reviews with APIFY\n",
        "Now navigate back to your APIFY console (https://console.apify.com/) and select the **Tasks** tab. \n",
        "\n",
        "Click the \"Create a new task\" button then \"Browse entire Apify Store\" for **Yelp Scraper**. Once you're redirected to the Yelp Scraper page, click \"Try Me\".\n",
        "\n",
        "ON THE INPUT TAB: \n",
        "1. **Search Terms** - set to blank\n",
        "2. **Locations** - set to blank\n",
        "3. **Search Results Limit** - set to 99999999\n",
        "4. **Direct Yelp Page URLs:** lorem ipsum (this is a temporary placeholder we will fix in step 8, so you can ignore the error message) \n",
        "5. **Maximum Reviews** - set to 99999999\n",
        "6. **Max Images** - set to 0\n",
        "7. **Toggle View** -  At the top left of this input section, toggle from editor view to JSON view. In JSON View, find the Direct URLS list that looks like this: <br>\n",
        "  \n",
        "  \"directUrls\": [<br>\n",
        "      \"lorem ipsum\"<br>\n",
        "      ],<br>\n",
        "\n",
        "8. In that list, replace *Lorem Ipsum* by pasting in the list of URLs from this previous code. Be sure to remove the very last comma, so that your list looks like this:<br>\n",
        "\n",
        "    \"directUrls\": [<br>\n",
        "    \"https://www.yelp.com...\" , <br>\n",
        "    \"https://www.yelp.com...\" , <br>\n",
        "    \"https://www.yelp.com...\"<br>\n",
        "      ],\n",
        "\n",
        "9. Toggle back over to Editor view and RUN the scraper. Once the task has run, you will see it marked:<br>\n",
        " \"✅ Succeeded\"\n",
        "10. Switch tabs from \"Log\" to \"dataset\" and download the dataset in JSON format."
      ]
    },
    {
      "cell_type": "markdown",
      "metadata": {
        "id": "byrY7SeiMe7r"
      },
      "source": [
        "## Option 2: Getting Data from Multiple Locations"
      ]
    },
    {
      "cell_type": "markdown",
      "metadata": {
        "id": "Wa6dRoGVUj0W"
      },
      "source": [
        "Import a list of locations you want to search. In this case, I used a CSV file containting every city in Ohio ordered by population. I got this list from this link: https://www.ohio-demographics.com/cities_by_population (it required a bit of cleaning)."
      ]
    },
    {
      "cell_type": "markdown",
      "metadata": {
        "id": "Cg1ON1VJgXqG"
      },
      "source": [
        "This allows you to input your data in the form of a .CSV file."
      ]
    },
    {
      "cell_type": "code",
      "metadata": {
        "id": "TLUQIVCdUeW9"
      },
      "source": [
        "citydf = pd.read_csv(\"/content/drive/My Drive/Colab Notebooks/OhioPopulationByCity.csv\", index_col= 0)"
      ],
      "execution_count": null,
      "outputs": []
    },
    {
      "cell_type": "markdown",
      "metadata": {
        "id": "3vW4qL2Vg1pW"
      },
      "source": [
        "This code generates a list of cities from the .CSV file and puts them into an array. With this particular dataset, \", OH\" is also appended to the end of every city in the array as well. "
      ]
    },
    {
      "cell_type": "code",
      "metadata": {
        "id": "jhG2CE0fU8MD"
      },
      "source": [
        "citylist = []\n",
        "\n",
        "for i in range(len(citydf)):\n",
        "  city = citydf.loc[i, \"City\"]\n",
        "  fullcity = \"{}, OH\".format(city)\n",
        "  citylist.append(fullcity)\n",
        "\n",
        "#...ALSO APPEND \" ,OH\" TO THE END OF EVERY CITY"
      ],
      "execution_count": null,
      "outputs": []
    },
    {
      "cell_type": "markdown",
      "metadata": {
        "id": "lFflX-dVhPIM"
      },
      "source": [
        "This code limits the array to just the ten most populous cities in the list and eliminates the rest from the array."
      ]
    },
    {
      "cell_type": "code",
      "metadata": {
        "id": "nvJEDiJYVAKw"
      },
      "source": [
        "#Let's just do the first 10 most populous cities for this example...\n",
        "citylist = citylist[:10]"
      ],
      "execution_count": null,
      "outputs": []
    },
    {
      "cell_type": "markdown",
      "metadata": {
        "id": "7wHfhYbshcRg"
      },
      "source": [
        "This code shows the new array."
      ]
    },
    {
      "cell_type": "code",
      "metadata": {
        "id": "5LnSTzy9VK1i"
      },
      "source": [
        "citylist"
      ],
      "execution_count": null,
      "outputs": []
    },
    {
      "cell_type": "markdown",
      "metadata": {
        "id": "kvQs76aBhgn4"
      },
      "source": [
        "This code searches for businesses in the desired business category in each city in the list. A query is then created that searches for every location in the desired city with the specific, designated category. Once again, only 50 results can be stored from the search. The program then checks to make sure the alias category matches with the actual category. It then generates a list of business located in Ohio that match the search criteria. It stores the information of every business in the form of businessname, ID, actualCity, state, rating, url, bizType. This information is then populated into the array and repeated for each city."
      ]
    },
    {
      "cell_type": "code",
      "metadata": {
        "id": "X-XaF1yDUbIq"
      },
      "source": [
        "counter = 0\n",
        "#FOR EVERY CITY, SEARCH FOR URGENT CARE\n",
        "for cityname in citylist:\n",
        "  search_results = yelp_api.search_query(categories='icecream', location=cityname, limit=50, radius=40000)\n",
        "  #CHECK IF CATEGORY ALIAS MATCHES THE CATEGORY WE WANT\n",
        "  for businessi in range(len(search_results['businesses'])):\n",
        "    if search_results['businesses'][0]['categories'][0]['alias'] == \"icecream\":\n",
        "      #This line causes the code to only includes businesses located in Ohio\n",
        "      if search_results['businesses'][businessi]['location']['state'] == \"OH\":\n",
        "        #GET THE INFO\n",
        "        businessname = search_results['businesses'][businessi]['alias']\n",
        "        ID = search_results['businesses'][businessi]['id']\n",
        "        actualCity = search_results['businesses'][businessi]['location']['city']\n",
        "        state = search_results['businesses'][businessi]['location']['state']\n",
        "        rating = search_results['businesses'][businessi]['rating']\n",
        "        url = search_results['businesses'][businessi]['url']\n",
        "        bizType = \"iceCream\"\n",
        "        \n",
        "        new_row = {'BusinessName': businessname, 'ID': ID, 'City': actualCity, 'State': state, \"TotalRating\": rating, \"URL\": url, \"bizType\": bizType}\n",
        "        businessdf = businessdf.append(new_row, ignore_index=True)\n",
        "  counter += 1\n",
        "  print(round(((counter / len(citylist)) * 100), 1))\n",
        "\n"
      ],
      "execution_count": null,
      "outputs": []
    },
    {
      "cell_type": "markdown",
      "metadata": {
        "id": "YPjQKNkBjtkP"
      },
      "source": [
        "This code deletes any duplicates that might have arisen from doing multiple searches."
      ]
    },
    {
      "cell_type": "code",
      "metadata": {
        "id": "_AanAZKhVmwC"
      },
      "source": [
        "#Because we did multiple searches, we need to make sure we don't have any duplicates...\n",
        "businessdf = pd.DataFrame.drop_duplicates(businessdf)\n",
        "businessdf.reset_index(drop=True, inplace=True)"
      ],
      "execution_count": null,
      "outputs": []
    },
    {
      "cell_type": "markdown",
      "metadata": {
        "id": "82XoQB6Mjyl7"
      },
      "source": [
        "This displays the results contained in the array."
      ]
    },
    {
      "cell_type": "code",
      "metadata": {
        "id": "_vXqpokJVz4P"
      },
      "source": [
        "display(businessdf)"
      ],
      "execution_count": null,
      "outputs": []
    },
    {
      "cell_type": "markdown",
      "metadata": {
        "id": "0W13HjHBWPli"
      },
      "source": [
        "The following code gives us a bunch of Yelp URLs that APIFY can read. Copy and paste ALL of this (If you're on Google Colab, right click and go to \"view output fullscreen\")."
      ]
    },
    {
      "cell_type": "code",
      "metadata": {
        "id": "902yXQGRWSlJ"
      },
      "source": [
        "for i in range(len(businessdf)):\n",
        "  print('\"{}\",'.format(businessdf.loc[i, \"URL\"]))"
      ],
      "execution_count": null,
      "outputs": []
    },
    {
      "cell_type": "markdown",
      "metadata": {
        "id": "rmVYT-fMWVEN"
      },
      "source": [
        "Now go to APIFY. Create a new task. Search for Yelp Scraper. Go to the Input tab. Remove search terms. Remove locations. Set search results limit to 99999999. In direct Yelp page URLs, type in some random characters, it doesn't matter what. Ignore the error message. Set maximum reviews to 99999999. Set max images to 0. Now switch from editor view to JSON view at the top left. In the list called direct URLs, paste in the the list of URLs that you got from this code. Remove the very last comma. You should now be able to switch back over to editor view if everything worked correctly. Run the scraper. Download the JSON dataset from APIFY."
      ]
    },
    {
      "cell_type": "markdown",
      "metadata": {
        "id": "0L6lBaAdMAwR"
      },
      "source": [
        "## Working with the data from APIFY"
      ]
    },
    {
      "cell_type": "markdown",
      "metadata": {
        "id": "DHk82zp5MEy9"
      },
      "source": [
        "For the next step, I'll be using the data I got from doing the steps under \"If getting data from just one location...\". I have JSON with 46 businesses and lots of metadata. "
      ]
    },
    {
      "cell_type": "markdown",
      "metadata": {
        "id": "V1mB5xo0cr6g"
      },
      "source": [
        "This imports the data from the \"Getting data from one location\" section that is contained in the JSON dataset from APIFY."
      ]
    },
    {
      "cell_type": "code",
      "metadata": {
        "id": "gDZSlaqALeX1"
      },
      "source": [
        "#Import the JSON dataset from APIFY\n",
        "\n",
        "APIFYdf = pd.read_json(\"/content/drive/My Drive/Colab Notebooks/Yelp/YelpTutorialAPIFY.json\")"
      ],
      "execution_count": null,
      "outputs": []
    },
    {
      "cell_type": "markdown",
      "metadata": {
        "id": "o560bNhpc2Qt"
      },
      "source": [
        "This displays the imported dataset."
      ]
    },
    {
      "cell_type": "code",
      "metadata": {
        "id": "meWJEEFKRVFR"
      },
      "source": [
        "display(APIFYdf)"
      ],
      "execution_count": null,
      "outputs": []
    },
    {
      "cell_type": "markdown",
      "metadata": {
        "id": "bUb-8WlyRvEH"
      },
      "source": [
        "## Option 1/2: If you want to make a dataframe where each row is a separate review..."
      ]
    },
    {
      "cell_type": "markdown",
      "metadata": {
        "id": "kYUg4ZV5c7ys"
      },
      "source": [
        "This code allows you to format how the data will be viewed. First, a review dataframe is generated with all of the desired attributes: buisinessTitle, directURL, businessID, phoneNUm, address, city, state, businessRating, reviewDate, reviewText, reviewRating, bizType, and dataSource. Conditions can also be set to only include certain types of businesses. Here, we limited the results to stores whose cuisine was strictly \"Ice Cream and Frozen Yogurt\" to limit it to businesses that are explicitly ice cream stores. Then, for each review, all of the data from the APIFYdf dataframe containing the search results is pulled and stored in variables. The code pulls out the buisinessTitle, directURL, businessID, phoneNUm, address, city, state, businessRating, reviewDate, reviewText, reviewRating, bizType, and dataSource elements from the review located in the APIFYdf dataframe. These attributes are then combined to create a new row, and the new row is inserted into the review dataframe. This is then repeated for every review until there are no more reviews. "
      ]
    },
    {
      "cell_type": "code",
      "metadata": {
        "id": "3TCZxZn6Rp4y"
      },
      "source": [
        "#REVIEW SCALE\n",
        "\n",
        "reviewScaleDF = pd.DataFrame(columns=[\"businessTitle\", \"directURL\", \"businessID\", \"phoneNum\", \"address\", \"city\", \"state\", \"businessRating\", \"reviewDate\", \"reviewText\", \"reviewRating\", \"bizType\", \"dataSource\"])\n",
        "for business in range(len(APIFYdf)):\n",
        "  #Let's say we only want businesses that are explicitly ice cream stores... we can add this line:\n",
        "  if APIFYdf.loc[business, \"cuisine\"] == \"Ice Cream & Frozen Yogurt\":\n",
        "    for review in range(len(APIFYdf.loc[business, 'reviews'])):\n",
        "\n",
        "      businessTitle = APIFYdf.loc[business, 'name']\n",
        "      directURL = APIFYdf.loc[business, 'directUrl']\n",
        "      businessID = APIFYdf.loc[business, 'bizId']\n",
        "      phoneNum = APIFYdf.loc[business, 'phone']\n",
        "      addressaggregate = \"{0}, {1}, {2}, {3}\".format((APIFYdf.loc[business, \"address\"]['addressLine1']), (APIFYdf.loc[business, \"address\"]['city']), (APIFYdf.loc[business, \"address\"]['regionCode']), (APIFYdf.loc[business, \"address\"]['postalCode']))\n",
        "      city = APIFYdf.loc[business, 'address']['city']\n",
        "      state = APIFYdf.loc[business, 'address']['regionCode']\n",
        "\n",
        "      overallRating = APIFYdf.loc[business, 'aggregatedRating']\n",
        "\n",
        "      theDate = APIFYdf.loc[business, 'reviews'][review]['date'][0:10]\n",
        "\n",
        "      reviewText = APIFYdf.loc[business, 'reviews'][review]['text']\n",
        "      reviewRating = APIFYdf.loc[business, 'reviews'][review]['rating']\n",
        "\n",
        "\n",
        "      \n",
        "\n",
        "      new_row = {'businessTitle': businessTitle,\n",
        "                'directURL': directURL,\n",
        "                'businessID': businessID,\n",
        "                'phoneNum': phoneNum,\n",
        "                'address': addressaggregate,\n",
        "                'city': city,\n",
        "                'state': state,\n",
        "                'businessRating': overallRating,\n",
        "                'reviewDate': theDate,\n",
        "                \"reviewText\": reviewText,\n",
        "                \"reviewRating\": reviewRating,\n",
        "                \"bizType\": \"iceCream\",\n",
        "                \"dataSource\": \"Yelp\"}\n",
        "      reviewScaleDF = reviewScaleDF.append(new_row, ignore_index=True)\n",
        "\n"
      ],
      "execution_count": null,
      "outputs": []
    },
    {
      "cell_type": "markdown",
      "metadata": {
        "id": "3A7d_7NBejeP"
      },
      "source": [
        "This code shows all of the information now contained in the review dataframe. "
      ]
    },
    {
      "cell_type": "code",
      "metadata": {
        "id": "GejQPyyZSdkx"
      },
      "source": [
        "display(reviewScaleDF)"
      ],
      "execution_count": null,
      "outputs": []
    },
    {
      "cell_type": "markdown",
      "metadata": {
        "id": "tA3f24SgeohE"
      },
      "source": [
        "This allows you to convert the data frame to a .CSV file and downloads the file."
      ]
    },
    {
      "cell_type": "code",
      "metadata": {
        "id": "52F_J0EySy7y"
      },
      "source": [
        "#Download the file as a CSV\n",
        "from google.colab import files\n",
        "reviewScaleDF.to_csv(\"reviewScaleIceCreamYelp.csv\")\n",
        "files.download(\"reviewScaleIceCreamYelp.csv\")"
      ],
      "execution_count": null,
      "outputs": []
    },
    {
      "cell_type": "markdown",
      "metadata": {
        "id": "8Rtbih9oSudh"
      },
      "source": [
        "## Option 2/2: If you want to make a dataframe where each row is one business, and the review text is stored in a column with one big review, a concatenation of ALL that reviews for that business..."
      ]
    },
    {
      "cell_type": "markdown",
      "metadata": {
        "id": "xlpZQuxPfWO-"
      },
      "source": [
        "This code allows you to see each row as one singular business and populates all reviews about that business into one row. First, a result dataframe is created to hold the data about every business. The data frame has the following attributes: buisinessTitle, directURL, businessID, phoneNum, address, city, state, businessRating, bigReview, numberOfReviews, bizType, and dataSource. As done before, conditions can also be set to limit the businesses we will put in the result dataframe. Here, we limit the businesses to ones that are strictly \"Ice Cream & Frozen Yogurt\" stores. The code then pulls all of the result dataframe attributes from the APIFYdf dataframe and stores them. For every review a singular business has, the new review will be added onto the current reviews and separated by a new line, 10 tildes, and another new line. For every review, the numOfReviews will also increase by one. Once all the reviews for the specific business have been populated, the stored attributes will be used to create a new row that is added to the result dataframe. This is then repeated for every business until there are no more businesses."
      ]
    },
    {
      "cell_type": "code",
      "metadata": {
        "id": "Vsq15WjWTIvR"
      },
      "source": [
        "institutionalScaleDF = pd.DataFrame(columns=[\"businessTitle\", \"directURL\", \"businessID\", \"phoneNum\", \"address\", \"city\", \"state\", \"businessRating\", \"bigReview\", \"numberOfReviews\", \"bizType\", \"dataSource\"])\n",
        "\n",
        "for business in range(len(APIFYdf)):\n",
        "  #Let's say we only want businesses that are explicitly ice cream stores... we can add this line:\n",
        "  if APIFYdf.loc[business, \"cuisine\"] == \"Ice Cream & Frozen Yogurt\":\n",
        "    businessTitle = APIFYdf.loc[business, 'name']\n",
        "    directURL = APIFYdf.loc[business, 'directUrl']\n",
        "    businessID = APIFYdf.loc[business, 'bizId']\n",
        "    phoneNum = APIFYdf.loc[business, 'phone']\n",
        "    addressaggregate = \"{0}, {1}, {2}, {3}\".format((APIFYdf.loc[business, \"address\"]['addressLine1']), (APIFYdf.loc[business, \"address\"]['city']), (APIFYdf.loc[business, \"address\"]['regionCode']), (APIFYdf.loc[business, \"address\"]['postalCode']))\n",
        "    city = APIFYdf.loc[business, 'address']['city']\n",
        "    state = APIFYdf.loc[business, 'address']['regionCode']\n",
        "\n",
        "    overallRating = APIFYdf.loc[business, 'aggregatedRating']\n",
        "\n",
        "    bigText = \"\"\n",
        "    numOfReviews = 0\n",
        "    #For each review...\n",
        "    for review in range(len(APIFYdf.loc[business, 'reviews'])):\n",
        "      #If the review has text, meaning it's not just a rating based on number of stars...\n",
        "      if APIFYdf.loc[business, 'reviews'][review]['text']:\n",
        "        reviewText = APIFYdf.loc[business, 'reviews'][review]['text']\n",
        "        #...append the review to this string called big text, and separate individual reviews with a newline, 10 tildes, and another newline.\n",
        "        bigText = bigText + reviewText\n",
        "        bigText = bigText + \"\\n\" + \"~~~~~~~~~~\" + \"\\n\"\n",
        "        numOfReviews += 1\n",
        "\n",
        "    \n",
        "    if bigText:\n",
        "    \n",
        "      new_row = {'businessTitle': businessTitle,\n",
        "                'directURL': directURL,\n",
        "                'businessID': businessID,\n",
        "                'phoneNum': phoneNum,\n",
        "                'address': addressaggregate,\n",
        "                'city': city,\n",
        "                'state': state,\n",
        "                'businessRating': overallRating,\n",
        "                'bigReview': bigText,\n",
        "                'numberOfReviews': numOfReviews,\n",
        "                'bizType': \"urgentCare\",\n",
        "                \"dataSource\": \"Yelp\"}\n",
        "      institutionalScaleDF = institutionalScaleDF.append(new_row, ignore_index=True)"
      ],
      "execution_count": null,
      "outputs": []
    },
    {
      "cell_type": "markdown",
      "metadata": {
        "id": "QDw2deYUhKhX"
      },
      "source": [
        "This code displays the result dataframe with all of the businesses."
      ]
    },
    {
      "cell_type": "code",
      "metadata": {
        "id": "A9zvAy4tUMsm"
      },
      "source": [
        "display(institutionalScaleDF)"
      ],
      "execution_count": null,
      "outputs": []
    },
    {
      "cell_type": "markdown",
      "metadata": {
        "id": "UiTsyqyYhOmw"
      },
      "source": [
        "This code shows an example of a business with multiple reviews and what that would look like as an output."
      ]
    },
    {
      "cell_type": "code",
      "metadata": {
        "id": "yH4pP9sRTIt3"
      },
      "source": [
        "#An example of what one big concatenated review looks like\n",
        "display(institutionalScaleDF.loc[3, \"bigReview\"])"
      ],
      "execution_count": null,
      "outputs": []
    },
    {
      "cell_type": "markdown",
      "metadata": {
        "id": "MSAnWKU7hUS0"
      },
      "source": [
        "This converts the dataframe to a .csv file and downloads the .csv file."
      ]
    },
    {
      "cell_type": "code",
      "metadata": {
        "id": "8n6By6ntTbqE"
      },
      "source": [
        "#Download the file as a CSV\n",
        "from google.colab import files\n",
        "institutionalScaleDF.to_csv(\"institutionalScaleIceCreamYelp.csv\")\n",
        "files.download(\"institutionalScaleIceCreamYelp.csv\")"
      ],
      "execution_count": null,
      "outputs": []
    }
  ]
}